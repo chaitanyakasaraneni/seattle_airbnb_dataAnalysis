{
 "cells": [
  {
   "cell_type": "markdown",
   "metadata": {},
   "source": [
    "# Analysis on the Seasonal Pattern of Prices"
   ]
  },
  {
   "cell_type": "markdown",
   "metadata": {},
   "source": [
    "#### Cleaning the data"
   ]
  },
  {
   "cell_type": "code",
   "execution_count": 1,
   "metadata": {},
   "outputs": [
    {
     "data": {
      "text/html": [
       "<div>\n",
       "<style scoped>\n",
       "    .dataframe tbody tr th:only-of-type {\n",
       "        vertical-align: middle;\n",
       "    }\n",
       "\n",
       "    .dataframe tbody tr th {\n",
       "        vertical-align: top;\n",
       "    }\n",
       "\n",
       "    .dataframe thead th {\n",
       "        text-align: right;\n",
       "    }\n",
       "</style>\n",
       "<table border=\"1\" class=\"dataframe\">\n",
       "  <thead>\n",
       "    <tr style=\"text-align: right;\">\n",
       "      <th></th>\n",
       "      <th>listing_id</th>\n",
       "      <th>date</th>\n",
       "      <th>available</th>\n",
       "      <th>price</th>\n",
       "      <th>Year</th>\n",
       "      <th>Month</th>\n",
       "      <th>Day</th>\n",
       "    </tr>\n",
       "  </thead>\n",
       "  <tbody>\n",
       "    <tr>\n",
       "      <th>0</th>\n",
       "      <td>241032</td>\n",
       "      <td>2016-01-04</td>\n",
       "      <td>t</td>\n",
       "      <td>85.0</td>\n",
       "      <td>2016</td>\n",
       "      <td>01</td>\n",
       "      <td>04</td>\n",
       "    </tr>\n",
       "    <tr>\n",
       "      <th>1</th>\n",
       "      <td>241032</td>\n",
       "      <td>2016-01-05</td>\n",
       "      <td>t</td>\n",
       "      <td>85.0</td>\n",
       "      <td>2016</td>\n",
       "      <td>01</td>\n",
       "      <td>05</td>\n",
       "    </tr>\n",
       "    <tr>\n",
       "      <th>9</th>\n",
       "      <td>241032</td>\n",
       "      <td>2016-01-13</td>\n",
       "      <td>t</td>\n",
       "      <td>85.0</td>\n",
       "      <td>2016</td>\n",
       "      <td>01</td>\n",
       "      <td>13</td>\n",
       "    </tr>\n",
       "    <tr>\n",
       "      <th>10</th>\n",
       "      <td>241032</td>\n",
       "      <td>2016-01-14</td>\n",
       "      <td>t</td>\n",
       "      <td>85.0</td>\n",
       "      <td>2016</td>\n",
       "      <td>01</td>\n",
       "      <td>14</td>\n",
       "    </tr>\n",
       "    <tr>\n",
       "      <th>14</th>\n",
       "      <td>241032</td>\n",
       "      <td>2016-01-18</td>\n",
       "      <td>t</td>\n",
       "      <td>85.0</td>\n",
       "      <td>2016</td>\n",
       "      <td>01</td>\n",
       "      <td>18</td>\n",
       "    </tr>\n",
       "  </tbody>\n",
       "</table>\n",
       "</div>"
      ],
      "text/plain": [
       "    listing_id        date available  price  Year Month Day\n",
       "0       241032  2016-01-04         t   85.0  2016    01  04\n",
       "1       241032  2016-01-05         t   85.0  2016    01  05\n",
       "9       241032  2016-01-13         t   85.0  2016    01  13\n",
       "10      241032  2016-01-14         t   85.0  2016    01  14\n",
       "14      241032  2016-01-18         t   85.0  2016    01  18"
      ]
     },
     "execution_count": 1,
     "metadata": {},
     "output_type": "execute_result"
    }
   ],
   "source": [
    "import pandas as pd\n",
    "import numpy as np\n",
    "import re\n",
    "\n",
    "calendarDF=pd.read_csv(\"../data/calendar.csv\")\n",
    "\n",
    "#replacing NaN values with 0\n",
    "calendarDF.fillna(0, inplace=True)\n",
    "calendarDF = calendarDF[calendarDF.price != 0]\n",
    "\n",
    "#Extracting prices from the table\n",
    "price = calendarDF['price']\n",
    "prices=[]\n",
    "\n",
    "for p in price:\n",
    "    p = re.sub('[^0-9.]+','', p)\n",
    "    prices.append(float(p))\n",
    "    \n",
    "#replace the price column with the new column\n",
    "calendarDF['price']=prices\n",
    "\n",
    "calendarDF = calendarDF[calendarDF.price >= 0]\n",
    "\n",
    "#separating date column into day month and year\n",
    "calendarDF['Year'],calendarDF['Month'],calendarDF['Day']=calendarDF['date'].str.split('-',2).str\n",
    "calendarDF.head()\n"
   ]
  },
  {
   "cell_type": "markdown",
   "metadata": {},
   "source": [
    "Cleaning of data has been done and added new columns namely Year,Month and Day by splitting date.I analyzed the data by group it on the basis of Year and Month to see the trend of prices"
   ]
  },
  {
   "cell_type": "code",
   "execution_count": 2,
   "metadata": {},
   "outputs": [
    {
     "data": {
      "text/html": [
       "<div>\n",
       "<style scoped>\n",
       "    .dataframe tbody tr th:only-of-type {\n",
       "        vertical-align: middle;\n",
       "    }\n",
       "\n",
       "    .dataframe tbody tr th {\n",
       "        vertical-align: top;\n",
       "    }\n",
       "\n",
       "    .dataframe thead th {\n",
       "        text-align: right;\n",
       "    }\n",
       "</style>\n",
       "<table border=\"1\" class=\"dataframe\">\n",
       "  <thead>\n",
       "    <tr style=\"text-align: right;\">\n",
       "      <th></th>\n",
       "      <th>Year</th>\n",
       "      <th>Month</th>\n",
       "      <th>average_Price</th>\n",
       "      <th>year-Month</th>\n",
       "    </tr>\n",
       "  </thead>\n",
       "  <tbody>\n",
       "    <tr>\n",
       "      <th>0</th>\n",
       "      <td>2016</td>\n",
       "      <td>01</td>\n",
       "      <td>121.568409</td>\n",
       "      <td>2016-01</td>\n",
       "    </tr>\n",
       "    <tr>\n",
       "      <th>1</th>\n",
       "      <td>2016</td>\n",
       "      <td>02</td>\n",
       "      <td>124.293927</td>\n",
       "      <td>2016-02</td>\n",
       "    </tr>\n",
       "    <tr>\n",
       "      <th>2</th>\n",
       "      <td>2016</td>\n",
       "      <td>03</td>\n",
       "      <td>128.644488</td>\n",
       "      <td>2016-03</td>\n",
       "    </tr>\n",
       "    <tr>\n",
       "      <th>3</th>\n",
       "      <td>2016</td>\n",
       "      <td>04</td>\n",
       "      <td>135.097005</td>\n",
       "      <td>2016-04</td>\n",
       "    </tr>\n",
       "    <tr>\n",
       "      <th>4</th>\n",
       "      <td>2016</td>\n",
       "      <td>05</td>\n",
       "      <td>139.538183</td>\n",
       "      <td>2016-05</td>\n",
       "    </tr>\n",
       "  </tbody>\n",
       "</table>\n",
       "</div>"
      ],
      "text/plain": [
       "   Year Month  average_Price year-Month\n",
       "0  2016    01     121.568409    2016-01\n",
       "1  2016    02     124.293927    2016-02\n",
       "2  2016    03     128.644488    2016-03\n",
       "3  2016    04     135.097005    2016-04\n",
       "4  2016    05     139.538183    2016-05"
      ]
     },
     "execution_count": 2,
     "metadata": {},
     "output_type": "execute_result"
    }
   ],
   "source": [
    "yearDF=calendarDF.groupby(['Year','Month']).price.mean()\n",
    "yearDF=yearDF.reset_index()\n",
    "yearDF=yearDF.rename(columns={'price':'average_Price'})\n",
    "yearDF['year-Month']=yearDF['Year'].map(str) + \"-\" + yearDF['Month'].map(str)\n",
    "yearDF.to_csv('../data/generated_files/year_month_data.csv')\n",
    "yearDF.head()"
   ]
  },
  {
   "cell_type": "markdown",
   "metadata": {},
   "source": [
    "It can be seen that the data is available from March 2019 to March 2020 and when average prices are analyzed maximum rates for the listings were in the month of May. Visualizing the same for a better understanding"
   ]
  },
  {
   "cell_type": "markdown",
   "metadata": {},
   "source": [
    "#### Visualizing the trend of year/Month and average prices of the listing"
   ]
  },
  {
   "cell_type": "code",
   "execution_count": 3,
   "metadata": {},
   "outputs": [
    {
     "data": {
      "text/plain": [
       "Text(0, 0.5, 'Average Price')"
      ]
     },
     "execution_count": 3,
     "metadata": {},
     "output_type": "execute_result"
    },
    {
     "data": {
      "image/png": "[encoded data removed]",
      "text/plain": [
       "<Figure size 1080x576 with 1 Axes>"
      ]
     },
     "metadata": {},
     "output_type": "display_data"
    }
   ],
   "source": [
    "%matplotlib inline\n",
    "\n",
    "import matplotlib\n",
    "import matplotlib.pyplot as plt\n",
    "matplotlib.style.use('ggplot')\n",
    "\n",
    "objects = yearDF['year-Month']\n",
    "y_pos = yearDF['average_Price']\n",
    "\n",
    "yearDF.plot(kind='bar', \n",
    "           x='year-Month',\n",
    "           y='average_Price',\n",
    "           color = '#66c2ff', \n",
    "           figsize =(15,8), \n",
    "           title = 'Seattle Airbnb prices trend over months', \n",
    "           legend = False)\n",
    "plt.ylabel('Average Price')\n"
   ]
  },
  {
   "cell_type": "markdown",
   "metadata": {},
   "source": [
    "It can be clearly seen that the maximum average price for listings were in the month of July, 2016 and August, 2016.\n",
    "To analyze the data further, I have extracted name of the day from given date and checked weather it was a holiday and what is the reason for that holiday."
   ]
  },
  {
   "cell_type": "code",
   "execution_count": 4,
   "metadata": {},
   "outputs": [
    {
     "name": "stdout",
     "output_type": "stream",
     "text": [
      "Requirement already satisfied: holidays in /Users/kc.kasaraneni/anaconda3/envs/sjsu/lib/python3.7/site-packages (0.10.2)\r\n",
      "Requirement already satisfied: python-dateutil in /Users/kc.kasaraneni/anaconda3/envs/sjsu/lib/python3.7/site-packages (from holidays) (2.8.1)\r\n",
      "Requirement already satisfied: six in /Users/kc.kasaraneni/anaconda3/envs/sjsu/lib/python3.7/site-packages (from holidays) (1.13.0)\r\n",
      "Requirement already satisfied: convertdate in /Users/kc.kasaraneni/anaconda3/envs/sjsu/lib/python3.7/site-packages (from holidays) (2.2.0)\r\n",
      "Requirement already satisfied: korean-lunar-calendar in /Users/kc.kasaraneni/anaconda3/envs/sjsu/lib/python3.7/site-packages (from holidays) (0.2.1)\r\n",
      "Requirement already satisfied: pymeeus<=1,>=0.3.6 in /Users/kc.kasaraneni/anaconda3/envs/sjsu/lib/python3.7/site-packages (from convertdate->holidays) (0.3.7)\r\n",
      "Requirement already satisfied: pytz<2020,>=2014.10 in /Users/kc.kasaraneni/anaconda3/envs/sjsu/lib/python3.7/site-packages (from convertdate->holidays) (2019.3)\r\n"
     ]
    }
   ],
   "source": [
    "!pip install holidays"
   ]
  },
  {
   "cell_type": "code",
   "execution_count": 5,
   "metadata": {},
   "outputs": [
    {
     "name": "stderr",
     "output_type": "stream",
     "text": [
      "/Users/kc.kasaraneni/anaconda3/envs/sjsu/lib/python3.7/site-packages/ipykernel_launcher.py:17: FutureWarning: set_value is deprecated and will be removed in a future release. Please use .at[] or .iat[] accessors instead\n",
      "/Users/kc.kasaraneni/anaconda3/envs/sjsu/lib/python3.7/site-packages/ipykernel_launcher.py:18: FutureWarning: set_value is deprecated and will be removed in a future release. Please use .at[] or .iat[] accessors instead\n",
      "/Users/kc.kasaraneni/anaconda3/envs/sjsu/lib/python3.7/site-packages/ipykernel_launcher.py:19: FutureWarning: set_value is deprecated and will be removed in a future release. Please use .at[] or .iat[] accessors instead\n"
     ]
    },
    {
     "data": {
      "text/html": [
       "<div>\n",
       "<style scoped>\n",
       "    .dataframe tbody tr th:only-of-type {\n",
       "        vertical-align: middle;\n",
       "    }\n",
       "\n",
       "    .dataframe tbody tr th {\n",
       "        vertical-align: top;\n",
       "    }\n",
       "\n",
       "    .dataframe thead th {\n",
       "        text-align: right;\n",
       "    }\n",
       "</style>\n",
       "<table border=\"1\" class=\"dataframe\">\n",
       "  <thead>\n",
       "    <tr style=\"text-align: right;\">\n",
       "      <th></th>\n",
       "      <th>listing_id</th>\n",
       "      <th>date</th>\n",
       "      <th>available</th>\n",
       "      <th>price</th>\n",
       "      <th>Year</th>\n",
       "      <th>Month</th>\n",
       "      <th>Day</th>\n",
       "      <th>day_Name</th>\n",
       "      <th>holiday</th>\n",
       "      <th>us_holidays_name</th>\n",
       "    </tr>\n",
       "  </thead>\n",
       "  <tbody>\n",
       "    <tr>\n",
       "      <th>0</th>\n",
       "      <td>241032</td>\n",
       "      <td>2016-01-04</td>\n",
       "      <td>t</td>\n",
       "      <td>85.0</td>\n",
       "      <td>2016</td>\n",
       "      <td>01</td>\n",
       "      <td>04</td>\n",
       "      <td>Monday</td>\n",
       "      <td>False</td>\n",
       "      <td>None</td>\n",
       "    </tr>\n",
       "    <tr>\n",
       "      <th>1</th>\n",
       "      <td>241032</td>\n",
       "      <td>2016-01-05</td>\n",
       "      <td>t</td>\n",
       "      <td>85.0</td>\n",
       "      <td>2016</td>\n",
       "      <td>01</td>\n",
       "      <td>05</td>\n",
       "      <td>Tuesday</td>\n",
       "      <td>False</td>\n",
       "      <td>None</td>\n",
       "    </tr>\n",
       "    <tr>\n",
       "      <th>9</th>\n",
       "      <td>241032</td>\n",
       "      <td>2016-01-13</td>\n",
       "      <td>t</td>\n",
       "      <td>85.0</td>\n",
       "      <td>2016</td>\n",
       "      <td>01</td>\n",
       "      <td>13</td>\n",
       "      <td>Wednesday</td>\n",
       "      <td>False</td>\n",
       "      <td>None</td>\n",
       "    </tr>\n",
       "    <tr>\n",
       "      <th>10</th>\n",
       "      <td>241032</td>\n",
       "      <td>2016-01-14</td>\n",
       "      <td>t</td>\n",
       "      <td>85.0</td>\n",
       "      <td>2016</td>\n",
       "      <td>01</td>\n",
       "      <td>14</td>\n",
       "      <td>Thursday</td>\n",
       "      <td>False</td>\n",
       "      <td>None</td>\n",
       "    </tr>\n",
       "    <tr>\n",
       "      <th>14</th>\n",
       "      <td>241032</td>\n",
       "      <td>2016-01-18</td>\n",
       "      <td>t</td>\n",
       "      <td>85.0</td>\n",
       "      <td>2016</td>\n",
       "      <td>01</td>\n",
       "      <td>18</td>\n",
       "      <td>Monday</td>\n",
       "      <td>True</td>\n",
       "      <td>Martin Luther King Jr. Day</td>\n",
       "    </tr>\n",
       "  </tbody>\n",
       "</table>\n",
       "</div>"
      ],
      "text/plain": [
       "    listing_id        date available  price  Year Month Day   day_Name  \\\n",
       "0       241032  2016-01-04         t   85.0  2016    01  04     Monday   \n",
       "1       241032  2016-01-05         t   85.0  2016    01  05    Tuesday   \n",
       "9       241032  2016-01-13         t   85.0  2016    01  13  Wednesday   \n",
       "10      241032  2016-01-14         t   85.0  2016    01  14   Thursday   \n",
       "14      241032  2016-01-18         t   85.0  2016    01  18     Monday   \n",
       "\n",
       "   holiday            us_holidays_name  \n",
       "0    False                        None  \n",
       "1    False                        None  \n",
       "9    False                        None  \n",
       "10   False                        None  \n",
       "14    True  Martin Luther King Jr. Day  "
      ]
     },
     "execution_count": 5,
     "metadata": {},
     "output_type": "execute_result"
    }
   ],
   "source": [
    "#getting day name from date data and holidays\n",
    "\n",
    "from datetime import date\n",
    "import datetime\n",
    "import calendar\n",
    "import holidays\n",
    "\n",
    "calendarDF.fillna(0, inplace=True)\n",
    "us_holidays = holidays.UnitedStates()\n",
    "\n",
    "calendarDF['day_Name']='default'\n",
    "calendarDF['holiday']='False'\n",
    "calendarDF['us_holidays_name']='working'\n",
    "for index,row in calendarDF.iterrows():\n",
    "    sdate = datetime.date(int(row['Year']),int(row['Month']),int(row['Day']))\n",
    "    vall=date(int(row['Year']),int(row['Month']),int(row['Day'])) in us_holidays\n",
    "    calendarDF.set_value(index,'day_Name',calendar.day_name[sdate.weekday()])\n",
    "    calendarDF.set_value(index,'holiday',vall)\n",
    "    calendarDF.set_value(index,'us_holidays_name',us_holidays.get(sdate))\n",
    "calendarDF.to_csv('../data/generated_files/holidays_data.csv')\n",
    "calendarDF.head()\n"
   ]
  },
  {
   "cell_type": "markdown",
   "metadata": {},
   "source": [
    "Added 3 new columns day_Name, holiday and us_holidays_name which consits of name of the day, boolean value for \"is it a holiday?\" and reason for the holiday respectively."
   ]
  },
  {
   "cell_type": "code",
   "execution_count": 6,
   "metadata": {},
   "outputs": [
    {
     "name": "stderr",
     "output_type": "stream",
     "text": [
      "/Users/kc.kasaraneni/anaconda3/envs/sjsu/lib/python3.7/site-packages/ipykernel_launcher.py:17: FutureWarning: set_value is deprecated and will be removed in a future release. Please use .at[] or .iat[] accessors instead\n",
      "/Users/kc.kasaraneni/anaconda3/envs/sjsu/lib/python3.7/site-packages/ipykernel_launcher.py:9: FutureWarning: set_value is deprecated and will be removed in a future release. Please use .at[] or .iat[] accessors instead\n",
      "  if __name__ == '__main__':\n",
      "/Users/kc.kasaraneni/anaconda3/envs/sjsu/lib/python3.7/site-packages/ipykernel_launcher.py:19: FutureWarning: set_value is deprecated and will be removed in a future release. Please use .at[] or .iat[] accessors instead\n",
      "/Users/kc.kasaraneni/anaconda3/envs/sjsu/lib/python3.7/site-packages/ipykernel_launcher.py:21: FutureWarning: set_value is deprecated and will be removed in a future release. Please use .at[] or .iat[] accessors instead\n",
      "/Users/kc.kasaraneni/anaconda3/envs/sjsu/lib/python3.7/site-packages/ipykernel_launcher.py:15: FutureWarning: set_value is deprecated and will be removed in a future release. Please use .at[] or .iat[] accessors instead\n",
      "  from ipykernel import kernelapp as app\n",
      "/Users/kc.kasaraneni/anaconda3/envs/sjsu/lib/python3.7/site-packages/ipykernel_launcher.py:11: FutureWarning: set_value is deprecated and will be removed in a future release. Please use .at[] or .iat[] accessors instead\n",
      "  # This is added back by InteractiveShellApp.init_path()\n",
      "/Users/kc.kasaraneni/anaconda3/envs/sjsu/lib/python3.7/site-packages/ipykernel_launcher.py:13: FutureWarning: set_value is deprecated and will be removed in a future release. Please use .at[] or .iat[] accessors instead\n",
      "  del sys.path[0]\n"
     ]
    },
    {
     "data": {
      "text/html": [
       "<div>\n",
       "<style scoped>\n",
       "    .dataframe tbody tr th:only-of-type {\n",
       "        vertical-align: middle;\n",
       "    }\n",
       "\n",
       "    .dataframe tbody tr th {\n",
       "        vertical-align: top;\n",
       "    }\n",
       "\n",
       "    .dataframe thead th {\n",
       "        text-align: right;\n",
       "    }\n",
       "</style>\n",
       "<table border=\"1\" class=\"dataframe\">\n",
       "  <thead>\n",
       "    <tr style=\"text-align: right;\">\n",
       "      <th></th>\n",
       "      <th>day_Name</th>\n",
       "      <th>Average_Price</th>\n",
       "      <th>day_num</th>\n",
       "    </tr>\n",
       "  </thead>\n",
       "  <tbody>\n",
       "    <tr>\n",
       "      <th>1</th>\n",
       "      <td>Monday</td>\n",
       "      <td>135.676414</td>\n",
       "      <td>1</td>\n",
       "    </tr>\n",
       "    <tr>\n",
       "      <th>5</th>\n",
       "      <td>Tuesday</td>\n",
       "      <td>135.408764</td>\n",
       "      <td>2</td>\n",
       "    </tr>\n",
       "    <tr>\n",
       "      <th>6</th>\n",
       "      <td>Wednesday</td>\n",
       "      <td>135.447880</td>\n",
       "      <td>3</td>\n",
       "    </tr>\n",
       "    <tr>\n",
       "      <th>4</th>\n",
       "      <td>Thursday</td>\n",
       "      <td>136.476032</td>\n",
       "      <td>4</td>\n",
       "    </tr>\n",
       "    <tr>\n",
       "      <th>0</th>\n",
       "      <td>Friday</td>\n",
       "      <td>143.036294</td>\n",
       "      <td>5</td>\n",
       "    </tr>\n",
       "    <tr>\n",
       "      <th>2</th>\n",
       "      <td>Saturday</td>\n",
       "      <td>143.202136</td>\n",
       "      <td>6</td>\n",
       "    </tr>\n",
       "    <tr>\n",
       "      <th>3</th>\n",
       "      <td>Sunday</td>\n",
       "      <td>136.459941</td>\n",
       "      <td>7</td>\n",
       "    </tr>\n",
       "  </tbody>\n",
       "</table>\n",
       "</div>"
      ],
      "text/plain": [
       "    day_Name  Average_Price  day_num\n",
       "1     Monday     135.676414        1\n",
       "5    Tuesday     135.408764        2\n",
       "6  Wednesday     135.447880        3\n",
       "4   Thursday     136.476032        4\n",
       "0     Friday     143.036294        5\n",
       "2   Saturday     143.202136        6\n",
       "3     Sunday     136.459941        7"
      ]
     },
     "execution_count": 6,
     "metadata": {},
     "output_type": "execute_result"
    }
   ],
   "source": [
    "#calculating Average price for each day\n",
    "\n",
    "dayDF=calendarDF.groupby('day_Name').price.mean()\n",
    "dayDF=dayDF.reset_index()\n",
    "dayDF['day_num']=0\n",
    "\n",
    "for index,row in dayDF.iterrows():\n",
    "    if row['day_Name']=='Monday':\n",
    "        dayDF.set_value(index,'day_num',1)\n",
    "    if row['day_Name']=='Tuesday':\n",
    "        dayDF.set_value(index,'day_num',2)\n",
    "    if row['day_Name']=='Wednesday':\n",
    "        dayDF.set_value(index,'day_num',3)\n",
    "    if row['day_Name']=='Thursday':\n",
    "        dayDF.set_value(index,'day_num',4)\n",
    "    if row['day_Name']=='Friday':\n",
    "        dayDF.set_value(index,'day_num',5)\n",
    "    if row['day_Name']=='Saturday':\n",
    "        dayDF.set_value(index,'day_num',6)\n",
    "    if row['day_Name']=='Sunday':\n",
    "        dayDF.set_value(index,'day_num',7)\n",
    "dayDF=dayDF.sort_values('day_num',ascending=[1])\n",
    "dayDF=dayDF.rename(columns={'price':'Average_Price'})\n",
    "dayDF"
   ]
  },
  {
   "cell_type": "markdown",
   "metadata": {},
   "source": [
    "It can be seen that the average price of listings increases on weekends and are usual on weekdays.Lets plot it to get a better understanding"
   ]
  },
  {
   "cell_type": "code",
   "execution_count": 7,
   "metadata": {},
   "outputs": [
    {
     "data": {
      "image/png": "[encoded data removed]",
      "text/plain": [
       "<Figure size 432x288 with 1 Axes>"
      ]
     },
     "metadata": {
      "needs_background": "light"
     },
     "output_type": "display_data"
    }
   ],
   "source": [
    "import matplotlib.pyplot as plt\n",
    "dayname = list()\n",
    "for i in dayDF['day_Name']:\n",
    "    dayname.append(i)\n",
    "avgprice = list()\n",
    "for i in dayDF['Average_Price']:\n",
    "    avgprice.append(i)\n",
    "graph_input = dict(zip(dayname,avgprice))\n",
    "\n",
    "plt.scatter(dayname,avgprice)\n",
    "plt.show()\n"
   ]
  },
  {
   "cell_type": "markdown",
   "metadata": {},
   "source": [
    "It can be seen that the prices are fairly high for the weekends than that of weekdays.Now we need to dig in into Sept 2016 and oct 2016 data to find the reason behind increase in Average prices.\n",
    "Analyzing all the holidays"
   ]
  },
  {
   "cell_type": "code",
   "execution_count": 8,
   "metadata": {},
   "outputs": [
    {
     "data": {
      "text/html": [
       "<div>\n",
       "<style scoped>\n",
       "    .dataframe tbody tr th:only-of-type {\n",
       "        vertical-align: middle;\n",
       "    }\n",
       "\n",
       "    .dataframe tbody tr th {\n",
       "        vertical-align: top;\n",
       "    }\n",
       "\n",
       "    .dataframe thead th {\n",
       "        text-align: right;\n",
       "    }\n",
       "</style>\n",
       "<table border=\"1\" class=\"dataframe\">\n",
       "  <thead>\n",
       "    <tr style=\"text-align: right;\">\n",
       "      <th></th>\n",
       "      <th>us_holidays_name</th>\n",
       "      <th>listing_id</th>\n",
       "    </tr>\n",
       "  </thead>\n",
       "  <tbody>\n",
       "    <tr>\n",
       "      <th>7</th>\n",
       "      <td>New Year's Day</td>\n",
       "      <td>2922</td>\n",
       "    </tr>\n",
       "    <tr>\n",
       "      <th>1</th>\n",
       "      <td>Christmas Day (Observed)</td>\n",
       "      <td>2831</td>\n",
       "    </tr>\n",
       "    <tr>\n",
       "      <th>0</th>\n",
       "      <td>Christmas Day</td>\n",
       "      <td>2829</td>\n",
       "    </tr>\n",
       "    <tr>\n",
       "      <th>8</th>\n",
       "      <td>New Year's Day (Observed)</td>\n",
       "      <td>2776</td>\n",
       "    </tr>\n",
       "    <tr>\n",
       "      <th>9</th>\n",
       "      <td>Thanksgiving</td>\n",
       "      <td>2746</td>\n",
       "    </tr>\n",
       "    <tr>\n",
       "      <th>10</th>\n",
       "      <td>Veterans Day</td>\n",
       "      <td>2718</td>\n",
       "    </tr>\n",
       "    <tr>\n",
       "      <th>2</th>\n",
       "      <td>Columbus Day</td>\n",
       "      <td>2650</td>\n",
       "    </tr>\n",
       "    <tr>\n",
       "      <th>6</th>\n",
       "      <td>Memorial Day</td>\n",
       "      <td>2583</td>\n",
       "    </tr>\n",
       "    <tr>\n",
       "      <th>4</th>\n",
       "      <td>Labor Day</td>\n",
       "      <td>2544</td>\n",
       "    </tr>\n",
       "    <tr>\n",
       "      <th>11</th>\n",
       "      <td>Washington's Birthday</td>\n",
       "      <td>2529</td>\n",
       "    </tr>\n",
       "    <tr>\n",
       "      <th>3</th>\n",
       "      <td>Independence Day</td>\n",
       "      <td>2371</td>\n",
       "    </tr>\n",
       "    <tr>\n",
       "      <th>5</th>\n",
       "      <td>Martin Luther King Jr. Day</td>\n",
       "      <td>2231</td>\n",
       "    </tr>\n",
       "  </tbody>\n",
       "</table>\n",
       "</div>"
      ],
      "text/plain": [
       "              us_holidays_name  listing_id\n",
       "7               New Year's Day        2922\n",
       "1     Christmas Day (Observed)        2831\n",
       "0                Christmas Day        2829\n",
       "8    New Year's Day (Observed)        2776\n",
       "9                 Thanksgiving        2746\n",
       "10                Veterans Day        2718\n",
       "2                 Columbus Day        2650\n",
       "6                 Memorial Day        2583\n",
       "4                    Labor Day        2544\n",
       "11       Washington's Birthday        2529\n",
       "3             Independence Day        2371\n",
       "5   Martin Luther King Jr. Day        2231"
      ]
     },
     "execution_count": 8,
     "metadata": {},
     "output_type": "execute_result"
    }
   ],
   "source": [
    "#checking which holiday has maximum listings\n",
    "\n",
    "holidayDF=calendarDF.groupby('us_holidays_name').listing_id.count()\n",
    "holidayDF=holidayDF.reset_index()\n",
    "holidayDF=holidayDF.sort_values('listing_id',ascending=[0])\n",
    "holidayDF"
   ]
  },
  {
   "cell_type": "code",
   "execution_count": 9,
   "metadata": {},
   "outputs": [
    {
     "data": {
      "text/plain": [
       "[Text(0, 0.5, 'Total Number of Listings'), Text(0.5, 0, 'US Holidays Name')]"
      ]
     },
     "execution_count": 9,
     "metadata": {},
     "output_type": "execute_result"
    },
    {
     "data": {
      "image/png": "[encoded data removed]",
      "text/plain": [
       "<Figure size 1368x720 with 1 Axes>"
      ]
     },
     "metadata": {
      "needs_background": "light"
     },
     "output_type": "display_data"
    }
   ],
   "source": [
    "# visualizing the same\n",
    "import seaborn as sns\n",
    "import matplotlib.pyplot as plt\n",
    "\n",
    "plt.figure(figsize=(19,10))\n",
    "ax = sns.barplot(\"us_holidays_name\", y=\"listing_id\", data=holidayDF,palette=\"Blues_d\")\n",
    "ax.set(xlabel='US Holidays Name', ylabel='Total Number of Listings')"
   ]
  },
  {
   "cell_type": "markdown",
   "metadata": {},
   "source": [
    "It can be seen that the maximum number of listings is for thanksgiving which can be reasoned as its a very popular holiday.Lets dig in further to find which holiday has the maximum average price."
   ]
  },
  {
   "cell_type": "code",
   "execution_count": 10,
   "metadata": {},
   "outputs": [
    {
     "data": {
      "text/html": [
       "<div>\n",
       "<style scoped>\n",
       "    .dataframe tbody tr th:only-of-type {\n",
       "        vertical-align: middle;\n",
       "    }\n",
       "\n",
       "    .dataframe tbody tr th {\n",
       "        vertical-align: top;\n",
       "    }\n",
       "\n",
       "    .dataframe thead th {\n",
       "        text-align: right;\n",
       "    }\n",
       "</style>\n",
       "<table border=\"1\" class=\"dataframe\">\n",
       "  <thead>\n",
       "    <tr style=\"text-align: right;\">\n",
       "      <th></th>\n",
       "      <th>us_holidays_name</th>\n",
       "      <th>price</th>\n",
       "    </tr>\n",
       "  </thead>\n",
       "  <tbody>\n",
       "    <tr>\n",
       "      <th>3</th>\n",
       "      <td>Independence Day</td>\n",
       "      <td>151.402362</td>\n",
       "    </tr>\n",
       "    <tr>\n",
       "      <th>6</th>\n",
       "      <td>Memorial Day</td>\n",
       "      <td>143.233837</td>\n",
       "    </tr>\n",
       "    <tr>\n",
       "      <th>4</th>\n",
       "      <td>Labor Day</td>\n",
       "      <td>142.087264</td>\n",
       "    </tr>\n",
       "    <tr>\n",
       "      <th>10</th>\n",
       "      <td>Veterans Day</td>\n",
       "      <td>140.070272</td>\n",
       "    </tr>\n",
       "    <tr>\n",
       "      <th>7</th>\n",
       "      <td>New Year's Day</td>\n",
       "      <td>138.126968</td>\n",
       "    </tr>\n",
       "    <tr>\n",
       "      <th>0</th>\n",
       "      <td>Christmas Day</td>\n",
       "      <td>137.974903</td>\n",
       "    </tr>\n",
       "    <tr>\n",
       "      <th>1</th>\n",
       "      <td>Christmas Day (Observed)</td>\n",
       "      <td>137.895797</td>\n",
       "    </tr>\n",
       "    <tr>\n",
       "      <th>9</th>\n",
       "      <td>Thanksgiving</td>\n",
       "      <td>136.054989</td>\n",
       "    </tr>\n",
       "    <tr>\n",
       "      <th>8</th>\n",
       "      <td>New Year's Day (Observed)</td>\n",
       "      <td>135.572767</td>\n",
       "    </tr>\n",
       "    <tr>\n",
       "      <th>2</th>\n",
       "      <td>Columbus Day</td>\n",
       "      <td>134.985660</td>\n",
       "    </tr>\n",
       "  </tbody>\n",
       "</table>\n",
       "</div>"
      ],
      "text/plain": [
       "             us_holidays_name       price\n",
       "3            Independence Day  151.402362\n",
       "6                Memorial Day  143.233837\n",
       "4                   Labor Day  142.087264\n",
       "10               Veterans Day  140.070272\n",
       "7              New Year's Day  138.126968\n",
       "0               Christmas Day  137.974903\n",
       "1    Christmas Day (Observed)  137.895797\n",
       "9                Thanksgiving  136.054989\n",
       "8   New Year's Day (Observed)  135.572767\n",
       "2                Columbus Day  134.985660"
      ]
     },
     "execution_count": 10,
     "metadata": {},
     "output_type": "execute_result"
    }
   ],
   "source": [
    "holidayPriceDF=calendarDF.groupby('us_holidays_name').price.mean()\n",
    "holidayPriceDF=holidayPriceDF.reset_index()\n",
    "holidayPriceDF=holidayPriceDF.sort_values('price',ascending=[0])\n",
    "\n",
    "holidayPriceDF.head(10)"
   ]
  },
  {
   "cell_type": "code",
   "execution_count": 11,
   "metadata": {},
   "outputs": [
    {
     "data": {
      "text/plain": [
       "[Text(0, 0.5, 'Average Price'), Text(0.5, 0, 'US Holidays Name')]"
      ]
     },
     "execution_count": 11,
     "metadata": {},
     "output_type": "execute_result"
    },
    {
     "data": {
      "image/png": "[encoded data removed]",
      "text/plain": [
       "<Figure size 1368x576 with 1 Axes>"
      ]
     },
     "metadata": {
      "needs_background": "light"
     },
     "output_type": "display_data"
    }
   ],
   "source": [
    "# visualizing the same\n",
    "import seaborn as sns\n",
    "import matplotlib.pyplot as plt\n",
    "\n",
    "plt.figure(figsize=(19,8))\n",
    "ax = sns.barplot(\"us_holidays_name\", y=\"price\", data=holidayPriceDF,palette=\"Blues_d\")\n",
    "ax.set(xlabel='US Holidays Name', ylabel='Average Price')"
   ]
  },
  {
   "cell_type": "code",
   "execution_count": 12,
   "metadata": {},
   "outputs": [
    {
     "data": {
      "text/html": [
       "<div>\n",
       "<style scoped>\n",
       "    .dataframe tbody tr th:only-of-type {\n",
       "        vertical-align: middle;\n",
       "    }\n",
       "\n",
       "    .dataframe tbody tr th {\n",
       "        vertical-align: top;\n",
       "    }\n",
       "\n",
       "    .dataframe thead th {\n",
       "        text-align: right;\n",
       "    }\n",
       "</style>\n",
       "<table border=\"1\" class=\"dataframe\">\n",
       "  <thead>\n",
       "    <tr style=\"text-align: right;\">\n",
       "      <th></th>\n",
       "      <th>us_holidays_name</th>\n",
       "      <th>number_Of_Listings</th>\n",
       "      <th>average_Price</th>\n",
       "    </tr>\n",
       "  </thead>\n",
       "  <tbody>\n",
       "    <tr>\n",
       "      <th>0</th>\n",
       "      <td>New Year's Day</td>\n",
       "      <td>2922</td>\n",
       "      <td>138.126968</td>\n",
       "    </tr>\n",
       "    <tr>\n",
       "      <th>1</th>\n",
       "      <td>Christmas Day (Observed)</td>\n",
       "      <td>2831</td>\n",
       "      <td>137.895797</td>\n",
       "    </tr>\n",
       "    <tr>\n",
       "      <th>2</th>\n",
       "      <td>Christmas Day</td>\n",
       "      <td>2829</td>\n",
       "      <td>137.974903</td>\n",
       "    </tr>\n",
       "    <tr>\n",
       "      <th>3</th>\n",
       "      <td>New Year's Day (Observed)</td>\n",
       "      <td>2776</td>\n",
       "      <td>135.572767</td>\n",
       "    </tr>\n",
       "    <tr>\n",
       "      <th>4</th>\n",
       "      <td>Thanksgiving</td>\n",
       "      <td>2746</td>\n",
       "      <td>136.054989</td>\n",
       "    </tr>\n",
       "    <tr>\n",
       "      <th>5</th>\n",
       "      <td>Veterans Day</td>\n",
       "      <td>2718</td>\n",
       "      <td>140.070272</td>\n",
       "    </tr>\n",
       "    <tr>\n",
       "      <th>6</th>\n",
       "      <td>Columbus Day</td>\n",
       "      <td>2650</td>\n",
       "      <td>134.985660</td>\n",
       "    </tr>\n",
       "    <tr>\n",
       "      <th>7</th>\n",
       "      <td>Memorial Day</td>\n",
       "      <td>2583</td>\n",
       "      <td>143.233837</td>\n",
       "    </tr>\n",
       "    <tr>\n",
       "      <th>8</th>\n",
       "      <td>Labor Day</td>\n",
       "      <td>2544</td>\n",
       "      <td>142.087264</td>\n",
       "    </tr>\n",
       "    <tr>\n",
       "      <th>9</th>\n",
       "      <td>Washington's Birthday</td>\n",
       "      <td>2529</td>\n",
       "      <td>125.353895</td>\n",
       "    </tr>\n",
       "    <tr>\n",
       "      <th>10</th>\n",
       "      <td>Independence Day</td>\n",
       "      <td>2371</td>\n",
       "      <td>151.402362</td>\n",
       "    </tr>\n",
       "    <tr>\n",
       "      <th>11</th>\n",
       "      <td>Martin Luther King Jr. Day</td>\n",
       "      <td>2231</td>\n",
       "      <td>121.740475</td>\n",
       "    </tr>\n",
       "  </tbody>\n",
       "</table>\n",
       "</div>"
      ],
      "text/plain": [
       "              us_holidays_name  number_Of_Listings  average_Price\n",
       "0               New Year's Day                2922     138.126968\n",
       "1     Christmas Day (Observed)                2831     137.895797\n",
       "2                Christmas Day                2829     137.974903\n",
       "3    New Year's Day (Observed)                2776     135.572767\n",
       "4                 Thanksgiving                2746     136.054989\n",
       "5                 Veterans Day                2718     140.070272\n",
       "6                 Columbus Day                2650     134.985660\n",
       "7                 Memorial Day                2583     143.233837\n",
       "8                    Labor Day                2544     142.087264\n",
       "9        Washington's Birthday                2529     125.353895\n",
       "10            Independence Day                2371     151.402362\n",
       "11  Martin Luther King Jr. Day                2231     121.740475"
      ]
     },
     "execution_count": 12,
     "metadata": {},
     "output_type": "execute_result"
    }
   ],
   "source": [
    "merger=pd.merge(holidayDF,holidayPriceDF,on='us_holidays_name')\n",
    "merger=merger.rename(columns={'listing_id':'number_Of_Listings'})\n",
    "merger=merger.rename(columns={'price':'average_Price'})\n",
    "merger"
   ]
  },
  {
   "cell_type": "code",
   "execution_count": 13,
   "metadata": {},
   "outputs": [
    {
     "data": {
      "text/html": [
       "<div>\n",
       "<style scoped>\n",
       "    .dataframe tbody tr th:only-of-type {\n",
       "        vertical-align: middle;\n",
       "    }\n",
       "\n",
       "    .dataframe tbody tr th {\n",
       "        vertical-align: top;\n",
       "    }\n",
       "\n",
       "    .dataframe thead th {\n",
       "        text-align: right;\n",
       "    }\n",
       "</style>\n",
       "<table border=\"1\" class=\"dataframe\">\n",
       "  <thead>\n",
       "    <tr style=\"text-align: right;\">\n",
       "      <th></th>\n",
       "      <th>Year</th>\n",
       "      <th>Month</th>\n",
       "      <th>holiday</th>\n",
       "      <th>price</th>\n",
       "    </tr>\n",
       "  </thead>\n",
       "  <tbody>\n",
       "    <tr>\n",
       "      <th>0</th>\n",
       "      <td>2016</td>\n",
       "      <td>07</td>\n",
       "      <td>False</td>\n",
       "      <td>152.116978</td>\n",
       "    </tr>\n",
       "    <tr>\n",
       "      <th>1</th>\n",
       "      <td>2016</td>\n",
       "      <td>07</td>\n",
       "      <td>True</td>\n",
       "      <td>151.402362</td>\n",
       "    </tr>\n",
       "    <tr>\n",
       "      <th>2</th>\n",
       "      <td>2016</td>\n",
       "      <td>08</td>\n",
       "      <td>False</td>\n",
       "      <td>150.656594</td>\n",
       "    </tr>\n",
       "  </tbody>\n",
       "</table>\n",
       "</div>"
      ],
      "text/plain": [
       "   Year Month  holiday       price\n",
       "0  2016    07    False  152.116978\n",
       "1  2016    07     True  151.402362\n",
       "2  2016    08    False  150.656594"
      ]
     },
     "execution_count": 13,
     "metadata": {},
     "output_type": "execute_result"
    }
   ],
   "source": [
    "checkHolidaysDF=calendarDF[((calendarDF['Year'] == '2016')|(calendarDF['Year'] == '2017')) & ((calendarDF['Month'] == '07') |(calendarDF['Month'] == '08') )]\n",
    "checkHolidaysDF=checkHolidaysDF.groupby(['Year','Month','holiday']).price.mean()\n",
    "checkHolidaysDF=checkHolidaysDF.reset_index()\n",
    "checkHolidaysDF.head()"
   ]
  },
  {
   "cell_type": "code",
   "execution_count": 14,
   "metadata": {},
   "outputs": [
    {
     "data": {
      "text/plain": [
       "Month\n",
       "07    150.522832\n",
       "Name: price, dtype: float64"
      ]
     },
     "execution_count": 14,
     "metadata": {},
     "output_type": "execute_result"
    }
   ],
   "source": [
    "#analyzing longweekednd holiday days\n",
    "\n",
    "columbusDF=calendarDF[(calendarDF['Year'] == '2016') & ((calendarDF['Month'] == '07' )) & ((calendarDF['Day'] == '05'))]\n",
    "columbusDF.groupby('Month').price.mean()\n",
    "# columbusDF"
   ]
  },
  {
   "cell_type": "code",
   "execution_count": 15,
   "metadata": {},
   "outputs": [
    {
     "data": {
      "text/plain": [
       "Month\n",
       "07    152.146363\n",
       "Name: price, dtype: float64"
      ]
     },
     "execution_count": 15,
     "metadata": {},
     "output_type": "execute_result"
    }
   ],
   "source": [
    "#analyzing rest of the days\n",
    "\n",
    "NocolumbusDF=calendarDF[(calendarDF['Year'] == '2016') & (calendarDF['Month'] == '07' ) & ((calendarDF['Day'] != '05'))]\n",
    "NocolumbusDF.groupby('Month').price.mean()"
   ]
  },
  {
   "cell_type": "markdown",
   "metadata": {},
   "source": [
    "It can be analyzed that on a long weekend the average price is 178.97 while for the whole month the average price was 168.6. Hence, this suggests that the price of listings increase with respect to the presence of weekend."
   ]
  },
  {
   "cell_type": "code",
   "execution_count": 16,
   "metadata": {},
   "outputs": [
    {
     "data": {
      "text/html": [
       "<div>\n",
       "<style scoped>\n",
       "    .dataframe tbody tr th:only-of-type {\n",
       "        vertical-align: middle;\n",
       "    }\n",
       "\n",
       "    .dataframe tbody tr th {\n",
       "        vertical-align: top;\n",
       "    }\n",
       "\n",
       "    .dataframe thead th {\n",
       "        text-align: right;\n",
       "    }\n",
       "</style>\n",
       "<table border=\"1\" class=\"dataframe\">\n",
       "  <thead>\n",
       "    <tr style=\"text-align: right;\">\n",
       "      <th></th>\n",
       "      <th>Day</th>\n",
       "      <th>Average_Price</th>\n",
       "    </tr>\n",
       "  </thead>\n",
       "  <tbody>\n",
       "    <tr>\n",
       "      <th>0</th>\n",
       "      <td>04</td>\n",
       "      <td>151.402362</td>\n",
       "    </tr>\n",
       "    <tr>\n",
       "      <th>1</th>\n",
       "      <td>05</td>\n",
       "      <td>150.522832</td>\n",
       "    </tr>\n",
       "    <tr>\n",
       "      <th>2</th>\n",
       "      <td>06</td>\n",
       "      <td>150.200837</td>\n",
       "    </tr>\n",
       "    <tr>\n",
       "      <th>3</th>\n",
       "      <td>07</td>\n",
       "      <td>150.709570</td>\n",
       "    </tr>\n",
       "    <tr>\n",
       "      <th>4</th>\n",
       "      <td>08</td>\n",
       "      <td>156.260469</td>\n",
       "    </tr>\n",
       "    <tr>\n",
       "      <th>5</th>\n",
       "      <td>09</td>\n",
       "      <td>156.448161</td>\n",
       "    </tr>\n",
       "    <tr>\n",
       "      <th>6</th>\n",
       "      <td>10</td>\n",
       "      <td>150.302538</td>\n",
       "    </tr>\n",
       "    <tr>\n",
       "      <th>7</th>\n",
       "      <td>11</td>\n",
       "      <td>149.866250</td>\n",
       "    </tr>\n",
       "    <tr>\n",
       "      <th>8</th>\n",
       "      <td>12</td>\n",
       "      <td>150.058504</td>\n",
       "    </tr>\n",
       "    <tr>\n",
       "      <th>9</th>\n",
       "      <td>13</td>\n",
       "      <td>150.656785</td>\n",
       "    </tr>\n",
       "  </tbody>\n",
       "</table>\n",
       "</div>"
      ],
      "text/plain": [
       "  Day  Average_Price\n",
       "0  04     151.402362\n",
       "1  05     150.522832\n",
       "2  06     150.200837\n",
       "3  07     150.709570\n",
       "4  08     156.260469\n",
       "5  09     156.448161\n",
       "6  10     150.302538\n",
       "7  11     149.866250\n",
       "8  12     150.058504\n",
       "9  13     150.656785"
      ]
     },
     "execution_count": 16,
     "metadata": {},
     "output_type": "execute_result"
    }
   ],
   "source": [
    "# analyzing data from date 4th of July to date 13th of July which includes both long weekend and normal workdays\n",
    "\n",
    "marDF=calendarDF[(calendarDF['Year'] == '2016') & (calendarDF['Month'] == '07' )& ((calendarDF['Day'] == '04' )|(calendarDF['Day'] == '05' )|(calendarDF['Day'] == '06' )| (calendarDF['Day'] == '07' )| (calendarDF['Day'] == '08' )| (calendarDF['Day'] == '09' )| (calendarDF['Day'] == '10' )| (calendarDF['Day'] == '11' )| (calendarDF['Day'] == '12' )| (calendarDF['Day'] == '13' ))]\n",
    "marDF=marDF.groupby('Day').price.mean()\n",
    "marDF=marDF.reset_index()\n",
    "marDF=marDF.sort_values('Day',ascending=[1])\n",
    "marDF=marDF.rename(columns={'price':'Average_Price'})\n",
    "marDF.head(10)"
   ]
  },
  {
   "cell_type": "code",
   "execution_count": 17,
   "metadata": {},
   "outputs": [
    {
     "data": {
      "image/png": "[encoded data removed]",
      "text/plain": [
       "<Figure size 432x288 with 1 Axes>"
      ]
     },
     "metadata": {
      "needs_background": "light"
     },
     "output_type": "display_data"
    }
   ],
   "source": [
    "import numpy as np\n",
    "import matplotlib.pyplot as plt\n",
    "\n",
    "x=marDF['Day'].tolist()\n",
    "y=marDF['Average_Price'].tolist()\n",
    "\n",
    "plt.plot(x,y, 'ro-')\n",
    "plt.ylabel('Average Price')\n",
    "plt.xlabel('Days')\n",
    "plt.show()"
   ]
  },
  {
   "cell_type": "markdown",
   "metadata": {},
   "source": [
    "Hence its can be seen that weekends have higher prices of listings which gives us another data point that price of a listing increases with the presence of weekend."
   ]
  },
  {
   "cell_type": "markdown",
   "metadata": {},
   "source": [
    "After adding up all the analyis done so far for observing seasonal changes in prices,it can be concluded that:\n",
    "\n",
    "- If a traveller is visiting Seattle on a low budget then he should avoid visiting in July and August as these are the times when average price of listings are fairly high as compared to the other months. Additionally, a traveller should also avoid visiting Seattle during weekends as the prices are high compared to that of weekdays."
   ]
  }
 ],
 "metadata": {
  "kernelspec": {
   "display_name": "Python 3",
   "language": "python",
   "name": "python3"
  },
  "language_info": {
   "codemirror_mode": {
    "name": "ipython",
    "version": 3
   },
   "file_extension": ".py",
   "mimetype": "text/x-python",
   "name": "python",
   "nbconvert_exporter": "python",
   "pygments_lexer": "ipython3",
   "version": "3.7.5"
  }
 },
 "nbformat": 4,
 "nbformat_minor": 2
}
